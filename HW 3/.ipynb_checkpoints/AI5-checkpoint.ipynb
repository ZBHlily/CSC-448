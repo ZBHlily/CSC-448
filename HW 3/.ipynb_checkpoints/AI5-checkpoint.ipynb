{
 "cells": [
  {
   "cell_type": "markdown",
   "id": "90713a66",
   "metadata": {},
   "source": [
    "# Sampling  \n",
    "- Terminology: Population and Sampling   \n",
    "- Random Sampling  \n",
    "- Systematic Sampling\n",
    "- Cluster Sampling\n",
    "- Weighted Sampling\n",
    "- Stratified Sampling"
   ]
  },
  {
   "cell_type": "code",
   "execution_count": 1,
   "id": "f1e0cc08",
   "metadata": {},
   "outputs": [],
   "source": [
    "import random"
   ]
  },
  {
   "cell_type": "markdown",
   "id": "60150f7b",
   "metadata": {},
   "source": [
    "### Random Sampling   \n",
    "- random.choice():returns a single random element\n",
    "- random.sample():  a list of multiple random elements without replacement, take cards from a deck\n",
    "- random.choices():  a list of multiple random elements with replacement\n",
    "- random.seed(): fix the random seed\n",
    "- random.shuffle(): shuffle a list"
   ]
  },
  {
   "cell_type": "code",
   "execution_count": 2,
   "id": "b2b824ec",
   "metadata": {},
   "outputs": [
    {
     "name": "stdout",
     "output_type": "stream",
     "text": [
      "3\n"
     ]
    }
   ],
   "source": [
    "l = [0, 1, 2, 3, 4]\n",
    "\n",
    "print(random.choice(l))"
   ]
  },
  {
   "cell_type": "markdown",
   "id": "26a945a4",
   "metadata": {},
   "source": [
    "<b> Question: generate a list with 100 random floats, then random choice one from this list"
   ]
  },
  {
   "cell_type": "code",
   "execution_count": 3,
   "id": "62852716",
   "metadata": {},
   "outputs": [
    {
     "name": "stdout",
     "output_type": "stream",
     "text": [
      "Randomly generated list of floats: [0.8901109306619487, 0.698033118399308, 0.4585884260873959, 0.15321266294490177, 0.14677080615300575, 0.5935778872111085, 0.9928801754958617, 0.33415905909582166, 0.5039566388398026, 0.5997587471176108, 0.10315531368981645, 0.5612133445773579, 0.9933440176627776, 0.8500191622290508, 0.6810714114027228, 0.437707511440682, 0.45012343730485704, 0.3441656843412937, 0.33829071069188865, 0.5709119030125651, 0.5328556945622177, 0.883244959665091, 0.8255351729313407, 0.12747699043102267, 0.8549038811003682, 0.03804193740652928, 0.08317416711692216, 0.24305848570511857, 0.10141086174519787, 0.8600259309563674, 0.33250599693329663, 0.5931478063092865, 0.9019595194534845, 0.3522640473391987, 0.06077117542267374, 0.8567809813329421, 0.5344658944942593, 0.6884281284948728, 0.13998860218779685, 0.7663519422857334, 0.7252224569350817, 0.31099977021350367, 0.4459567891942492, 0.6768808980250015, 0.12593832418687922, 0.49306243600988797, 0.4367275702071235, 0.9453614712646597, 0.5198434397891759, 0.905463604204247, 0.7725355406517174, 0.6067728597517357, 0.18092071479933802, 0.5968661874508053, 0.7010307832673827, 0.40338810531599456, 0.9287137753218969, 0.0010211102852603071, 0.32448486195855797, 0.735665287090269, 0.15615879042673764, 0.7875462171075581, 0.08713176328681704, 0.5297694238034518, 0.17446705933676876, 0.886155280744696, 0.8362979825646205, 0.5175691329432965, 0.5252637606845725, 0.6391168651079906, 0.477138194670372, 0.03326170715258303, 0.30313517965557646, 0.01601808086551626, 0.5073779426798397, 0.08478911148391755, 0.6208801154191527, 0.42933912778799155, 0.29467052810172034, 0.2985808169526888, 0.9380859227892812, 0.5986804966190772, 0.2968337465508101, 0.07555083784763372, 0.8427220028023397, 0.8790611123514203, 0.844161151342756, 0.5697975132376234, 0.13929782452887796, 0.05479722513456442, 0.9572331593451396, 0.34814158842255327, 0.24827738095348673, 0.22808633108797105, 0.942096632800443, 0.5099095195855203, 0.5190506095218542, 0.015796521027739097, 0.20221207705775135, 0.44729670128236454]\n",
      "Randomly chosen float from the list: 0.5190506095218542\n"
     ]
    }
   ],
   "source": [
    "import random\n",
    "\n",
    "# generate a list with 100 random floats\n",
    "random_floats = [random.uniform(0, 1) for _ in range(100)]\n",
    "\n",
    "# randomly choose one float from the list\n",
    "random_choice = random.choice(random_floats)\n",
    "\n",
    "# print the results\n",
    "print(\"Randomly generated list of floats:\", random_floats)\n",
    "print(\"Randomly chosen float from the list:\", random_choice)"
   ]
  },
  {
   "cell_type": "code",
   "execution_count": null,
   "id": "2c7cf8a3",
   "metadata": {},
   "outputs": [],
   "source": []
  },
  {
   "cell_type": "code",
   "execution_count": null,
   "id": "8864bab7",
   "metadata": {},
   "outputs": [],
   "source": []
  },
  {
   "cell_type": "code",
   "execution_count": 59,
   "id": "1bac2666",
   "metadata": {},
   "outputs": [
    {
     "name": "stdout",
     "output_type": "stream",
     "text": [
      "xxx\n"
     ]
    }
   ],
   "source": [
    "print(random.choice(('xxx', 'yyy', 'zzz')))"
   ]
  },
  {
   "cell_type": "code",
   "execution_count": 21,
   "id": "4906576a",
   "metadata": {},
   "outputs": [
    {
     "name": "stdout",
     "output_type": "stream",
     "text": [
      "[1, 2, 3]\n",
      "[0, 1, 2, 4]\n"
     ]
    }
   ],
   "source": [
    "l = [0, 1, 2, 3, 4]\n",
    "\n",
    "print(random.sample(l, 3))\n",
    "print(random.sample(l, 4))"
   ]
  },
  {
   "cell_type": "code",
   "execution_count": 62,
   "id": "8eff588c",
   "metadata": {},
   "outputs": [
    {
     "name": "stdout",
     "output_type": "stream",
     "text": [
      "[4, 1]\n"
     ]
    }
   ],
   "source": [
    "print(random.sample(l, 2))"
   ]
  },
  {
   "cell_type": "code",
   "execution_count": 63,
   "id": "7064ed75",
   "metadata": {},
   "outputs": [
    {
     "name": "stdout",
     "output_type": "stream",
     "text": [
      "[4, 3, 4]\n"
     ]
    }
   ],
   "source": [
    "print(random.choices(l, k=3))"
   ]
  },
  {
   "cell_type": "code",
   "execution_count": 65,
   "id": "ba05c166",
   "metadata": {},
   "outputs": [
    {
     "name": "stdout",
     "output_type": "stream",
     "text": [
      "[2, 4, 0, 0, 1, 0, 0, 2, 1, 2, 2, 4, 2, 2, 2, 4, 1, 2, 1, 4, 2, 4, 1, 3, 3, 1, 1, 2, 2, 3, 3, 2, 4, 1, 3, 2, 2, 3, 4, 4, 4, 4, 3, 3, 2, 1, 3, 4, 2, 2, 3, 2, 3, 2, 1, 3, 4, 3, 1, 0, 4, 4, 0, 2, 0, 2, 3, 4, 3, 0, 1, 4, 4, 0, 4, 3, 0, 1, 1, 0, 0, 0, 0, 4, 1, 0, 4, 3, 2, 0, 2, 3, 1, 4, 0, 4, 3, 3, 1, 2]\n"
     ]
    }
   ],
   "source": [
    "print(random.choices(l, k=100))"
   ]
  },
  {
   "cell_type": "markdown",
   "id": "956b3100",
   "metadata": {},
   "source": [
    "<b> Question:  \n",
    "- generate a list lenth is 10 with random floats  \n",
    "- select 5 from this list without replacement  \n",
    "- select 5 from this list with replacement  "
   ]
  },
  {
   "cell_type": "code",
   "execution_count": 5,
   "id": "1bb82191",
   "metadata": {},
   "outputs": [
    {
     "name": "stdout",
     "output_type": "stream",
     "text": [
      "List of 10 random floats: [0.6754725408516876, 0.611038832355054, 0.8493661895804016, 0.8503073462327425, 0.4533404164329722, 0.30670360993328005, 0.23536912724109305, 0.7844919078823964, 0.9003587317921415, 0.722016264446398]\n",
      "5 random floats without replacement: [0.4533404164329722, 0.6754725408516876, 0.23536912724109305, 0.611038832355054, 0.8503073462327425]\n",
      "5 random floats with replacement: [0.4533404164329722, 0.4533404164329722, 0.6754725408516876, 0.8503073462327425, 0.4533404164329722]\n"
     ]
    }
   ],
   "source": [
    "import random\n",
    "\n",
    "# generate a list of 10 random floats\n",
    "random_floats = [random.uniform(0, 1) for _ in range(10)]\n",
    "\n",
    "# select 5 random floats from the list without replacement\n",
    "random_without_replacement = random.sample(random_floats, 5)\n",
    "\n",
    "# select 5 random floats from the list with replacement\n",
    "random_with_replacement = [random.choice(random_floats) for _ in range(5)]\n",
    "\n",
    "# print the results\n",
    "print(\"List of 10 random floats:\", random_floats)\n",
    "print(\"5 random floats without replacement:\", random_without_replacement)\n",
    "print(\"5 random floats with replacement:\", random_with_replacement)"
   ]
  },
  {
   "cell_type": "code",
   "execution_count": null,
   "id": "408d50fa",
   "metadata": {},
   "outputs": [],
   "source": []
  },
  {
   "cell_type": "markdown",
   "id": "6233c12d",
   "metadata": {},
   "source": [
    "### Weighted Sampling\n"
   ]
  },
  {
   "cell_type": "code",
   "execution_count": 66,
   "id": "ff32eadb",
   "metadata": {},
   "outputs": [
    {
     "name": "stdout",
     "output_type": "stream",
     "text": [
      "[3, 3, 3]\n"
     ]
    }
   ],
   "source": [
    "print(random.choices(l, k=3, weights=[0, 1, 1, 10, 1]))"
   ]
  },
  {
   "cell_type": "code",
   "execution_count": null,
   "id": "63123565",
   "metadata": {},
   "outputs": [],
   "source": []
  },
  {
   "cell_type": "code",
   "execution_count": 14,
   "id": "24a66b74",
   "metadata": {},
   "outputs": [
    {
     "name": "stdout",
     "output_type": "stream",
     "text": [
      "[1, 3, 4, 0, 2]\n"
     ]
    }
   ],
   "source": [
    "l = [0, 1, 2, 3, 4]\n",
    "\n",
    "random.shuffle(l)\n",
    "\n",
    "print(l)"
   ]
  },
  {
   "cell_type": "code",
   "execution_count": 12,
   "id": "ccfa206b",
   "metadata": {},
   "outputs": [
    {
     "name": "stdout",
     "output_type": "stream",
     "text": [
      "[4, 1, 3, 0, 2]\n"
     ]
    }
   ],
   "source": [
    "l = [0, 1, 2, 3, 4]\n",
    "\n",
    "l_shuffled = random.sample(l, len(l))\n",
    "print(l_shuffled)"
   ]
  },
  {
   "cell_type": "markdown",
   "id": "7be08572",
   "metadata": {},
   "source": [
    "### Systematic Sampling\n"
   ]
  },
  {
   "cell_type": "code",
   "execution_count": null,
   "id": "ac9ffb00",
   "metadata": {},
   "outputs": [],
   "source": []
  },
  {
   "cell_type": "code",
   "execution_count": 67,
   "id": "a25b9f34",
   "metadata": {},
   "outputs": [],
   "source": [
    "# Import in order to use inbuilt functions\n",
    "import numpy as np\n",
    "import pandas as pd\n",
    " \n",
    "# Define total number of students\n",
    "number_of_students = 15\n",
    " \n",
    "# Create data dictionary\n",
    "data = {'Id': np.arange(1, number_of_students+1).tolist(),\n",
    "        'height': [159, 171, 158, 162, 162, 177, 160, 175,\n",
    "                   168, 171, 178, 178, 173, 177, 164]}\n",
    " \n",
    "# Transform dictionary into a data frame\n",
    "df = pd.DataFrame(data)\n",
    " \n",
    "# display(df)\n",
    " \n",
    "# Define systematic sampling function\n",
    "def systematic_sampling(df, step):\n",
    " \n",
    "    indexes = np.arange(0, len(df), step=step)\n",
    "    systematic_sample = df.iloc[indexes]\n",
    "    return systematic_sample\n",
    " \n",
    " \n",
    "# Obtain a systematic sample and save it in a new variable\n",
    "systematic_sample = systematic_sampling(df, 3)\n",
    " \n",
    "# View sampled data frame\n",
    "# display(systematic_sample)"
   ]
  },
  {
   "cell_type": "markdown",
   "id": "1401a292",
   "metadata": {},
   "source": [
    "<b> Question: read penguins_iter.csv, then use the sysmetics sampling to sample data, step sets to 5"
   ]
  },
  {
   "cell_type": "code",
   "execution_count": 11,
   "id": "01616077",
   "metadata": {},
   "outputs": [
    {
     "ename": "FileNotFoundError",
     "evalue": "[Errno 2] No such file or directory: 'penguins_iter.csv'",
     "output_type": "error",
     "traceback": [
      "\u001b[0;31m---------------------------------------------------------------------------\u001b[0m",
      "\u001b[0;31mFileNotFoundError\u001b[0m                         Traceback (most recent call last)",
      "\u001b[0;32m/var/folders/t5/961m25k976xdp4w3m8b1r5600000gn/T/ipykernel_51803/737940741.py\u001b[0m in \u001b[0;36m<module>\u001b[0;34m\u001b[0m\n\u001b[1;32m      2\u001b[0m \u001b[0;34m\u001b[0m\u001b[0m\n\u001b[1;32m      3\u001b[0m \u001b[0;31m# Read the penguins_iter.csv file BUT NOT GIVEN TO US so will result in errors\u001b[0m\u001b[0;34m\u001b[0m\u001b[0;34m\u001b[0m\u001b[0m\n\u001b[0;32m----> 4\u001b[0;31m \u001b[0mdata\u001b[0m \u001b[0;34m=\u001b[0m \u001b[0mpd\u001b[0m\u001b[0;34m.\u001b[0m\u001b[0mread_csv\u001b[0m\u001b[0;34m(\u001b[0m\u001b[0;34m'penguins_iter.csv'\u001b[0m\u001b[0;34m)\u001b[0m\u001b[0;34m\u001b[0m\u001b[0;34m\u001b[0m\u001b[0m\n\u001b[0m\u001b[1;32m      5\u001b[0m \u001b[0;34m\u001b[0m\u001b[0m\n\u001b[1;32m      6\u001b[0m \u001b[0;31m# Apply systematic sampling with a step size of 5\u001b[0m\u001b[0;34m\u001b[0m\u001b[0;34m\u001b[0m\u001b[0m\n",
      "\u001b[0;32m/opt/anaconda3/lib/python3.9/site-packages/pandas/util/_decorators.py\u001b[0m in \u001b[0;36mwrapper\u001b[0;34m(*args, **kwargs)\u001b[0m\n\u001b[1;32m    209\u001b[0m                 \u001b[0;32melse\u001b[0m\u001b[0;34m:\u001b[0m\u001b[0;34m\u001b[0m\u001b[0;34m\u001b[0m\u001b[0m\n\u001b[1;32m    210\u001b[0m                     \u001b[0mkwargs\u001b[0m\u001b[0;34m[\u001b[0m\u001b[0mnew_arg_name\u001b[0m\u001b[0;34m]\u001b[0m \u001b[0;34m=\u001b[0m \u001b[0mnew_arg_value\u001b[0m\u001b[0;34m\u001b[0m\u001b[0;34m\u001b[0m\u001b[0m\n\u001b[0;32m--> 211\u001b[0;31m             \u001b[0;32mreturn\u001b[0m \u001b[0mfunc\u001b[0m\u001b[0;34m(\u001b[0m\u001b[0;34m*\u001b[0m\u001b[0margs\u001b[0m\u001b[0;34m,\u001b[0m \u001b[0;34m**\u001b[0m\u001b[0mkwargs\u001b[0m\u001b[0;34m)\u001b[0m\u001b[0;34m\u001b[0m\u001b[0;34m\u001b[0m\u001b[0m\n\u001b[0m\u001b[1;32m    212\u001b[0m \u001b[0;34m\u001b[0m\u001b[0m\n\u001b[1;32m    213\u001b[0m         \u001b[0;32mreturn\u001b[0m \u001b[0mcast\u001b[0m\u001b[0;34m(\u001b[0m\u001b[0mF\u001b[0m\u001b[0;34m,\u001b[0m \u001b[0mwrapper\u001b[0m\u001b[0;34m)\u001b[0m\u001b[0;34m\u001b[0m\u001b[0;34m\u001b[0m\u001b[0m\n",
      "\u001b[0;32m/opt/anaconda3/lib/python3.9/site-packages/pandas/util/_decorators.py\u001b[0m in \u001b[0;36mwrapper\u001b[0;34m(*args, **kwargs)\u001b[0m\n\u001b[1;32m    329\u001b[0m                     \u001b[0mstacklevel\u001b[0m\u001b[0;34m=\u001b[0m\u001b[0mfind_stack_level\u001b[0m\u001b[0;34m(\u001b[0m\u001b[0;34m)\u001b[0m\u001b[0;34m,\u001b[0m\u001b[0;34m\u001b[0m\u001b[0;34m\u001b[0m\u001b[0m\n\u001b[1;32m    330\u001b[0m                 )\n\u001b[0;32m--> 331\u001b[0;31m             \u001b[0;32mreturn\u001b[0m \u001b[0mfunc\u001b[0m\u001b[0;34m(\u001b[0m\u001b[0;34m*\u001b[0m\u001b[0margs\u001b[0m\u001b[0;34m,\u001b[0m \u001b[0;34m**\u001b[0m\u001b[0mkwargs\u001b[0m\u001b[0;34m)\u001b[0m\u001b[0;34m\u001b[0m\u001b[0;34m\u001b[0m\u001b[0m\n\u001b[0m\u001b[1;32m    332\u001b[0m \u001b[0;34m\u001b[0m\u001b[0m\n\u001b[1;32m    333\u001b[0m         \u001b[0;31m# error: \"Callable[[VarArg(Any), KwArg(Any)], Any]\" has no\u001b[0m\u001b[0;34m\u001b[0m\u001b[0;34m\u001b[0m\u001b[0m\n",
      "\u001b[0;32m/opt/anaconda3/lib/python3.9/site-packages/pandas/io/parsers/readers.py\u001b[0m in \u001b[0;36mread_csv\u001b[0;34m(filepath_or_buffer, sep, delimiter, header, names, index_col, usecols, squeeze, prefix, mangle_dupe_cols, dtype, engine, converters, true_values, false_values, skipinitialspace, skiprows, skipfooter, nrows, na_values, keep_default_na, na_filter, verbose, skip_blank_lines, parse_dates, infer_datetime_format, keep_date_col, date_parser, dayfirst, cache_dates, iterator, chunksize, compression, thousands, decimal, lineterminator, quotechar, quoting, doublequote, escapechar, comment, encoding, encoding_errors, dialect, error_bad_lines, warn_bad_lines, on_bad_lines, delim_whitespace, low_memory, memory_map, float_precision, storage_options)\u001b[0m\n\u001b[1;32m    948\u001b[0m     \u001b[0mkwds\u001b[0m\u001b[0;34m.\u001b[0m\u001b[0mupdate\u001b[0m\u001b[0;34m(\u001b[0m\u001b[0mkwds_defaults\u001b[0m\u001b[0;34m)\u001b[0m\u001b[0;34m\u001b[0m\u001b[0;34m\u001b[0m\u001b[0m\n\u001b[1;32m    949\u001b[0m \u001b[0;34m\u001b[0m\u001b[0m\n\u001b[0;32m--> 950\u001b[0;31m     \u001b[0;32mreturn\u001b[0m \u001b[0m_read\u001b[0m\u001b[0;34m(\u001b[0m\u001b[0mfilepath_or_buffer\u001b[0m\u001b[0;34m,\u001b[0m \u001b[0mkwds\u001b[0m\u001b[0;34m)\u001b[0m\u001b[0;34m\u001b[0m\u001b[0;34m\u001b[0m\u001b[0m\n\u001b[0m\u001b[1;32m    951\u001b[0m \u001b[0;34m\u001b[0m\u001b[0m\n\u001b[1;32m    952\u001b[0m \u001b[0;34m\u001b[0m\u001b[0m\n",
      "\u001b[0;32m/opt/anaconda3/lib/python3.9/site-packages/pandas/io/parsers/readers.py\u001b[0m in \u001b[0;36m_read\u001b[0;34m(filepath_or_buffer, kwds)\u001b[0m\n\u001b[1;32m    603\u001b[0m \u001b[0;34m\u001b[0m\u001b[0m\n\u001b[1;32m    604\u001b[0m     \u001b[0;31m# Create the parser.\u001b[0m\u001b[0;34m\u001b[0m\u001b[0;34m\u001b[0m\u001b[0m\n\u001b[0;32m--> 605\u001b[0;31m     \u001b[0mparser\u001b[0m \u001b[0;34m=\u001b[0m \u001b[0mTextFileReader\u001b[0m\u001b[0;34m(\u001b[0m\u001b[0mfilepath_or_buffer\u001b[0m\u001b[0;34m,\u001b[0m \u001b[0;34m**\u001b[0m\u001b[0mkwds\u001b[0m\u001b[0;34m)\u001b[0m\u001b[0;34m\u001b[0m\u001b[0;34m\u001b[0m\u001b[0m\n\u001b[0m\u001b[1;32m    606\u001b[0m \u001b[0;34m\u001b[0m\u001b[0m\n\u001b[1;32m    607\u001b[0m     \u001b[0;32mif\u001b[0m \u001b[0mchunksize\u001b[0m \u001b[0;32mor\u001b[0m \u001b[0miterator\u001b[0m\u001b[0;34m:\u001b[0m\u001b[0;34m\u001b[0m\u001b[0;34m\u001b[0m\u001b[0m\n",
      "\u001b[0;32m/opt/anaconda3/lib/python3.9/site-packages/pandas/io/parsers/readers.py\u001b[0m in \u001b[0;36m__init__\u001b[0;34m(self, f, engine, **kwds)\u001b[0m\n\u001b[1;32m   1440\u001b[0m \u001b[0;34m\u001b[0m\u001b[0m\n\u001b[1;32m   1441\u001b[0m         \u001b[0mself\u001b[0m\u001b[0;34m.\u001b[0m\u001b[0mhandles\u001b[0m\u001b[0;34m:\u001b[0m \u001b[0mIOHandles\u001b[0m \u001b[0;34m|\u001b[0m \u001b[0;32mNone\u001b[0m \u001b[0;34m=\u001b[0m \u001b[0;32mNone\u001b[0m\u001b[0;34m\u001b[0m\u001b[0;34m\u001b[0m\u001b[0m\n\u001b[0;32m-> 1442\u001b[0;31m         \u001b[0mself\u001b[0m\u001b[0;34m.\u001b[0m\u001b[0m_engine\u001b[0m \u001b[0;34m=\u001b[0m \u001b[0mself\u001b[0m\u001b[0;34m.\u001b[0m\u001b[0m_make_engine\u001b[0m\u001b[0;34m(\u001b[0m\u001b[0mf\u001b[0m\u001b[0;34m,\u001b[0m \u001b[0mself\u001b[0m\u001b[0;34m.\u001b[0m\u001b[0mengine\u001b[0m\u001b[0;34m)\u001b[0m\u001b[0;34m\u001b[0m\u001b[0;34m\u001b[0m\u001b[0m\n\u001b[0m\u001b[1;32m   1443\u001b[0m \u001b[0;34m\u001b[0m\u001b[0m\n\u001b[1;32m   1444\u001b[0m     \u001b[0;32mdef\u001b[0m \u001b[0mclose\u001b[0m\u001b[0;34m(\u001b[0m\u001b[0mself\u001b[0m\u001b[0;34m)\u001b[0m \u001b[0;34m->\u001b[0m \u001b[0;32mNone\u001b[0m\u001b[0;34m:\u001b[0m\u001b[0;34m\u001b[0m\u001b[0;34m\u001b[0m\u001b[0m\n",
      "\u001b[0;32m/opt/anaconda3/lib/python3.9/site-packages/pandas/io/parsers/readers.py\u001b[0m in \u001b[0;36m_make_engine\u001b[0;34m(self, f, engine)\u001b[0m\n\u001b[1;32m   1733\u001b[0m                 \u001b[0;32mif\u001b[0m \u001b[0;34m\"b\"\u001b[0m \u001b[0;32mnot\u001b[0m \u001b[0;32min\u001b[0m \u001b[0mmode\u001b[0m\u001b[0;34m:\u001b[0m\u001b[0;34m\u001b[0m\u001b[0;34m\u001b[0m\u001b[0m\n\u001b[1;32m   1734\u001b[0m                     \u001b[0mmode\u001b[0m \u001b[0;34m+=\u001b[0m \u001b[0;34m\"b\"\u001b[0m\u001b[0;34m\u001b[0m\u001b[0;34m\u001b[0m\u001b[0m\n\u001b[0;32m-> 1735\u001b[0;31m             self.handles = get_handle(\n\u001b[0m\u001b[1;32m   1736\u001b[0m                 \u001b[0mf\u001b[0m\u001b[0;34m,\u001b[0m\u001b[0;34m\u001b[0m\u001b[0;34m\u001b[0m\u001b[0m\n\u001b[1;32m   1737\u001b[0m                 \u001b[0mmode\u001b[0m\u001b[0;34m,\u001b[0m\u001b[0;34m\u001b[0m\u001b[0;34m\u001b[0m\u001b[0m\n",
      "\u001b[0;32m/opt/anaconda3/lib/python3.9/site-packages/pandas/io/common.py\u001b[0m in \u001b[0;36mget_handle\u001b[0;34m(path_or_buf, mode, encoding, compression, memory_map, is_text, errors, storage_options)\u001b[0m\n\u001b[1;32m    854\u001b[0m         \u001b[0;32mif\u001b[0m \u001b[0mioargs\u001b[0m\u001b[0;34m.\u001b[0m\u001b[0mencoding\u001b[0m \u001b[0;32mand\u001b[0m \u001b[0;34m\"b\"\u001b[0m \u001b[0;32mnot\u001b[0m \u001b[0;32min\u001b[0m \u001b[0mioargs\u001b[0m\u001b[0;34m.\u001b[0m\u001b[0mmode\u001b[0m\u001b[0;34m:\u001b[0m\u001b[0;34m\u001b[0m\u001b[0;34m\u001b[0m\u001b[0m\n\u001b[1;32m    855\u001b[0m             \u001b[0;31m# Encoding\u001b[0m\u001b[0;34m\u001b[0m\u001b[0;34m\u001b[0m\u001b[0m\n\u001b[0;32m--> 856\u001b[0;31m             handle = open(\n\u001b[0m\u001b[1;32m    857\u001b[0m                 \u001b[0mhandle\u001b[0m\u001b[0;34m,\u001b[0m\u001b[0;34m\u001b[0m\u001b[0;34m\u001b[0m\u001b[0m\n\u001b[1;32m    858\u001b[0m                 \u001b[0mioargs\u001b[0m\u001b[0;34m.\u001b[0m\u001b[0mmode\u001b[0m\u001b[0;34m,\u001b[0m\u001b[0;34m\u001b[0m\u001b[0;34m\u001b[0m\u001b[0m\n",
      "\u001b[0;31mFileNotFoundError\u001b[0m: [Errno 2] No such file or directory: 'penguins_iter.csv'"
     ]
    }
   ],
   "source": [
    "import pandas as pd\n",
    "\n",
    "# Read the penguins_iter.csv file BUT NOT GIVEN TO US so will result in errors\n",
    "data = pd.read_csv('penguins_iter.csv')\n",
    "\n",
    "# Apply systematic sampling with a step size of 5\n",
    "sampled_data = data.iloc[::5]\n",
    "\n",
    "# Print the sampled data\n",
    "print(\"Sampled Data:\")\n",
    "print(sampled_data)"
   ]
  },
  {
   "cell_type": "code",
   "execution_count": null,
   "id": "ceb797e4",
   "metadata": {},
   "outputs": [],
   "source": []
  },
  {
   "cell_type": "code",
   "execution_count": null,
   "id": "a469df19",
   "metadata": {},
   "outputs": [],
   "source": []
  },
  {
   "cell_type": "code",
   "execution_count": null,
   "id": "da242d31",
   "metadata": {},
   "outputs": [],
   "source": []
  },
  {
   "cell_type": "code",
   "execution_count": null,
   "id": "b8852b28",
   "metadata": {},
   "outputs": [],
   "source": [
    "import random"
   ]
  },
  {
   "cell_type": "markdown",
   "id": "4174943b",
   "metadata": {},
   "source": [
    "Generate random numbers:\n",
    "- Generate random integers : randrange(), randint()\n",
    "- Generate random floating : uniform(), random()\n",
    "- Generate a list of random numbers\n",
    "\n",
    "\n",
    "- Beta distribution: random.betavariate()\n",
    "- Exponential distribution: random.expovariate()\n",
    "- Gamma distribution: random.gammavariate()\n",
    "- Gaussian distribution: random.gauss()\n",
    "- Log normal distribution: random.lognormvariate()\n",
    "- Normal distribution: random.normalvariate()\n",
    "- von Mises distribution: random.vonmisesvariate()\n",
    "- Pareto distribution: random.paretovariate()\n",
    "- Weibull distribution: random.weibullvariate()"
   ]
  },
  {
   "cell_type": "code",
   "execution_count": 4,
   "id": "6e359fb4",
   "metadata": {},
   "outputs": [
    {
     "name": "stdout",
     "output_type": "stream",
     "text": [
      "0.08495981584077161\n"
     ]
    }
   ],
   "source": [
    "print(random.random())\n"
   ]
  },
  {
   "cell_type": "code",
   "execution_count": 5,
   "id": "7c097e3f",
   "metadata": {},
   "outputs": [
    {
     "name": "stdout",
     "output_type": "stream",
     "text": [
      "198.90787935649226\n"
     ]
    }
   ],
   "source": [
    "print(random.uniform(100, 200))"
   ]
  },
  {
   "cell_type": "code",
   "execution_count": 6,
   "id": "21e2deed",
   "metadata": {},
   "outputs": [
    {
     "name": "stdout",
     "output_type": "stream",
     "text": [
      "10\n",
      "73\n"
     ]
    }
   ],
   "source": [
    "print(random.randrange(10, 20, 2))\n",
    "print(random.randint(50, 100))"
   ]
  },
  {
   "cell_type": "markdown",
   "id": "974d4290",
   "metadata": {},
   "source": [
    "<b> Question: Generate 10 integers and put them in a list"
   ]
  },
  {
   "cell_type": "code",
   "execution_count": 9,
   "id": "db6c763a",
   "metadata": {},
   "outputs": [
    {
     "name": "stdout",
     "output_type": "stream",
     "text": [
      "[53, 85, 66, 77, 47, 50, 70, 14, 8, 55]\n"
     ]
    }
   ],
   "source": [
    "# generate 10 random integers and put them in a list\n",
    "random_integers = [random.randint(1, 100) for _ in range(10)]\n",
    "\n",
    "# print the list of random integers\n",
    "print(random_integers)"
   ]
  },
  {
   "cell_type": "code",
   "execution_count": null,
   "id": "019abafa",
   "metadata": {},
   "outputs": [],
   "source": []
  },
  {
   "cell_type": "code",
   "execution_count": 39,
   "id": "ec430fe3",
   "metadata": {},
   "outputs": [
    {
     "name": "stdout",
     "output_type": "stream",
     "text": [
      "[1, 4, 8, 4, 1]\n"
     ]
    }
   ],
   "source": [
    "print([random.randint(0, 10) for i in range(5)])"
   ]
  },
  {
   "cell_type": "code",
   "execution_count": null,
   "id": "2e18712e",
   "metadata": {},
   "outputs": [],
   "source": []
  },
  {
   "cell_type": "code",
   "execution_count": null,
   "id": "54382654",
   "metadata": {},
   "outputs": [],
   "source": []
  },
  {
   "cell_type": "code",
   "execution_count": null,
   "id": "a31dd103",
   "metadata": {},
   "outputs": [],
   "source": []
  },
  {
   "cell_type": "code",
   "execution_count": 7,
   "id": "38f6e2cd",
   "metadata": {},
   "outputs": [
    {
     "name": "stdout",
     "output_type": "stream",
     "text": [
      "[0.46956348970928574, 0.47392382960408297, 0.25260094388241716, 0.7849017409976323, 0.3385096960144236]\n"
     ]
    }
   ],
   "source": [
    "print([random.random() for i in range(5)])"
   ]
  },
  {
   "cell_type": "code",
   "execution_count": 8,
   "id": "c3c4aae8",
   "metadata": {},
   "outputs": [
    {
     "name": "stdout",
     "output_type": "stream",
     "text": [
      "[1, 1, 6, 10, 10]\n"
     ]
    }
   ],
   "source": [
    "print([random.randint(0, 10) for i in range(5)])"
   ]
  },
  {
   "cell_type": "code",
   "execution_count": 52,
   "id": "19a4902d",
   "metadata": {},
   "outputs": [
    {
     "name": "stdout",
     "output_type": "stream",
     "text": [
      "0.9081128851953352\n"
     ]
    }
   ],
   "source": [
    "# random.seed(0)\n",
    "print(random.random())"
   ]
  },
  {
   "cell_type": "code",
   "execution_count": 54,
   "id": "549c943d",
   "metadata": {},
   "outputs": [
    {
     "name": "stdout",
     "output_type": "stream",
     "text": [
      "0.9560342718892494\n",
      "0.9478274870593494\n",
      "0.9560342718892494\n"
     ]
    }
   ],
   "source": [
    "random.seed(2)\n",
    "print(random.random())\n",
    "\n",
    "\n",
    "print(random.random())\n",
    "\n",
    "\n",
    "random.seed(2)\n",
    "print(random.random())"
   ]
  },
  {
   "cell_type": "markdown",
   "id": "96d56b27",
   "metadata": {},
   "source": [
    "Sampling wutg pandas"
   ]
  },
  {
   "cell_type": "code",
   "execution_count": null,
   "id": "128f54a4",
   "metadata": {},
   "outputs": [],
   "source": []
  },
  {
   "cell_type": "markdown",
   "id": "eb676122",
   "metadata": {},
   "source": [
    "### Dataframe sampling"
   ]
  },
  {
   "cell_type": "markdown",
   "id": "64ccf24f",
   "metadata": {},
   "source": [
    "<b> Question: read penguins_iter.csv data"
   ]
  },
  {
   "cell_type": "code",
   "execution_count": 72,
   "id": "d3542277",
   "metadata": {},
   "outputs": [],
   "source": [
    "import pandas as pd"
   ]
  },
  {
   "cell_type": "code",
   "execution_count": 73,
   "id": "ff5b512b",
   "metadata": {},
   "outputs": [],
   "source": [
    "file = r\"C:\\Users\\ZhaoY\\Downloads\\Engr10200_A Data Science and Statistical Approach to Programming\\penguins_lter.csv\""
   ]
  },
  {
   "cell_type": "code",
   "execution_count": 74,
   "id": "3af517b5",
   "metadata": {},
   "outputs": [],
   "source": [
    "df = pd.read_csv(file)"
   ]
  },
  {
   "cell_type": "code",
   "execution_count": 75,
   "id": "d391a294",
   "metadata": {},
   "outputs": [
    {
     "data": {
      "text/html": [
       "<div>\n",
       "<style scoped>\n",
       "    .dataframe tbody tr th:only-of-type {\n",
       "        vertical-align: middle;\n",
       "    }\n",
       "\n",
       "    .dataframe tbody tr th {\n",
       "        vertical-align: top;\n",
       "    }\n",
       "\n",
       "    .dataframe thead th {\n",
       "        text-align: right;\n",
       "    }\n",
       "</style>\n",
       "<table border=\"1\" class=\"dataframe\">\n",
       "  <thead>\n",
       "    <tr style=\"text-align: right;\">\n",
       "      <th></th>\n",
       "      <th>studyName</th>\n",
       "      <th>Sample Number</th>\n",
       "      <th>Species</th>\n",
       "      <th>Region</th>\n",
       "      <th>Island</th>\n",
       "      <th>Stage</th>\n",
       "      <th>Individual ID</th>\n",
       "      <th>Clutch Completion</th>\n",
       "      <th>Date Egg</th>\n",
       "      <th>Culmen Length (mm)</th>\n",
       "      <th>Culmen Depth (mm)</th>\n",
       "      <th>Flipper Length (mm)</th>\n",
       "      <th>Body Mass (g)</th>\n",
       "      <th>Sex</th>\n",
       "      <th>Delta 15 N (o/oo)</th>\n",
       "      <th>Delta 13 C (o/oo)</th>\n",
       "      <th>Comments</th>\n",
       "    </tr>\n",
       "  </thead>\n",
       "  <tbody>\n",
       "    <tr>\n",
       "      <th>109</th>\n",
       "      <td>PAL0910</td>\n",
       "      <td>110</td>\n",
       "      <td>Adelie Penguin (Pygoscelis adeliae)</td>\n",
       "      <td>Anvers</td>\n",
       "      <td>Biscoe</td>\n",
       "      <td>Adult, 1 Egg Stage</td>\n",
       "      <td>N55A2</td>\n",
       "      <td>Yes</td>\n",
       "      <td>11/20/09</td>\n",
       "      <td>43.2</td>\n",
       "      <td>19.0</td>\n",
       "      <td>197.0</td>\n",
       "      <td>4775.0</td>\n",
       "      <td>MALE</td>\n",
       "      <td>9.31735</td>\n",
       "      <td>-25.45171</td>\n",
       "      <td>NaN</td>\n",
       "    </tr>\n",
       "  </tbody>\n",
       "</table>\n",
       "</div>"
      ],
      "text/plain": [
       "    studyName  Sample Number                              Species  Region  \\\n",
       "109   PAL0910            110  Adelie Penguin (Pygoscelis adeliae)  Anvers   \n",
       "\n",
       "     Island               Stage Individual ID Clutch Completion  Date Egg  \\\n",
       "109  Biscoe  Adult, 1 Egg Stage         N55A2               Yes  11/20/09   \n",
       "\n",
       "     Culmen Length (mm)  Culmen Depth (mm)  Flipper Length (mm)  \\\n",
       "109                43.2               19.0                197.0   \n",
       "\n",
       "     Body Mass (g)   Sex  Delta 15 N (o/oo)  Delta 13 C (o/oo) Comments  \n",
       "109         4775.0  MALE            9.31735          -25.45171      NaN  "
      ]
     },
     "execution_count": 75,
     "metadata": {},
     "output_type": "execute_result"
    }
   ],
   "source": [
    "row = df.sample(n = 1)\n",
    "row"
   ]
  },
  {
   "cell_type": "code",
   "execution_count": 77,
   "id": "2c29c7e4",
   "metadata": {},
   "outputs": [
    {
     "data": {
      "text/html": [
       "<div>\n",
       "<style scoped>\n",
       "    .dataframe tbody tr th:only-of-type {\n",
       "        vertical-align: middle;\n",
       "    }\n",
       "\n",
       "    .dataframe tbody tr th {\n",
       "        vertical-align: top;\n",
       "    }\n",
       "\n",
       "    .dataframe thead th {\n",
       "        text-align: right;\n",
       "    }\n",
       "</style>\n",
       "<table border=\"1\" class=\"dataframe\">\n",
       "  <thead>\n",
       "    <tr style=\"text-align: right;\">\n",
       "      <th></th>\n",
       "      <th>studyName</th>\n",
       "      <th>Sample Number</th>\n",
       "      <th>Species</th>\n",
       "      <th>Region</th>\n",
       "      <th>Island</th>\n",
       "      <th>Stage</th>\n",
       "      <th>Individual ID</th>\n",
       "      <th>Clutch Completion</th>\n",
       "      <th>Date Egg</th>\n",
       "      <th>Culmen Length (mm)</th>\n",
       "      <th>Culmen Depth (mm)</th>\n",
       "      <th>Flipper Length (mm)</th>\n",
       "      <th>Body Mass (g)</th>\n",
       "      <th>Sex</th>\n",
       "      <th>Delta 15 N (o/oo)</th>\n",
       "      <th>Delta 13 C (o/oo)</th>\n",
       "      <th>Comments</th>\n",
       "    </tr>\n",
       "  </thead>\n",
       "  <tbody>\n",
       "    <tr>\n",
       "      <th>200</th>\n",
       "      <td>PAL0910</td>\n",
       "      <td>49</td>\n",
       "      <td>Chinstrap penguin (Pygoscelis antarctica)</td>\n",
       "      <td>Anvers</td>\n",
       "      <td>Dream</td>\n",
       "      <td>Adult, 1 Egg Stage</td>\n",
       "      <td>N88A1</td>\n",
       "      <td>Yes</td>\n",
       "      <td>11/23/09</td>\n",
       "      <td>51.5</td>\n",
       "      <td>18.7</td>\n",
       "      <td>187.0</td>\n",
       "      <td>3250.0</td>\n",
       "      <td>MALE</td>\n",
       "      <td>9.68950</td>\n",
       "      <td>-24.43062</td>\n",
       "      <td>NaN</td>\n",
       "    </tr>\n",
       "    <tr>\n",
       "      <th>140</th>\n",
       "      <td>PAL0910</td>\n",
       "      <td>141</td>\n",
       "      <td>Adelie Penguin (Pygoscelis adeliae)</td>\n",
       "      <td>Anvers</td>\n",
       "      <td>Dream</td>\n",
       "      <td>Adult, 1 Egg Stage</td>\n",
       "      <td>N80A1</td>\n",
       "      <td>Yes</td>\n",
       "      <td>11/14/09</td>\n",
       "      <td>40.2</td>\n",
       "      <td>17.1</td>\n",
       "      <td>193.0</td>\n",
       "      <td>3400.0</td>\n",
       "      <td>FEMALE</td>\n",
       "      <td>9.28810</td>\n",
       "      <td>-25.54976</td>\n",
       "      <td>NaN</td>\n",
       "    </tr>\n",
       "    <tr>\n",
       "      <th>94</th>\n",
       "      <td>PAL0809</td>\n",
       "      <td>95</td>\n",
       "      <td>Adelie Penguin (Pygoscelis adeliae)</td>\n",
       "      <td>Anvers</td>\n",
       "      <td>Dream</td>\n",
       "      <td>Adult, 1 Egg Stage</td>\n",
       "      <td>N48A1</td>\n",
       "      <td>Yes</td>\n",
       "      <td>11/17/08</td>\n",
       "      <td>36.2</td>\n",
       "      <td>17.3</td>\n",
       "      <td>187.0</td>\n",
       "      <td>3300.0</td>\n",
       "      <td>FEMALE</td>\n",
       "      <td>8.90723</td>\n",
       "      <td>-26.30037</td>\n",
       "      <td>NaN</td>\n",
       "    </tr>\n",
       "    <tr>\n",
       "      <th>89</th>\n",
       "      <td>PAL0809</td>\n",
       "      <td>90</td>\n",
       "      <td>Adelie Penguin (Pygoscelis adeliae)</td>\n",
       "      <td>Anvers</td>\n",
       "      <td>Dream</td>\n",
       "      <td>Adult, 1 Egg Stage</td>\n",
       "      <td>N44A2</td>\n",
       "      <td>Yes</td>\n",
       "      <td>11/8/08</td>\n",
       "      <td>38.9</td>\n",
       "      <td>18.8</td>\n",
       "      <td>190.0</td>\n",
       "      <td>3600.0</td>\n",
       "      <td>FEMALE</td>\n",
       "      <td>8.36936</td>\n",
       "      <td>-26.11199</td>\n",
       "      <td>NaN</td>\n",
       "    </tr>\n",
       "    <tr>\n",
       "      <th>116</th>\n",
       "      <td>PAL0910</td>\n",
       "      <td>117</td>\n",
       "      <td>Adelie Penguin (Pygoscelis adeliae)</td>\n",
       "      <td>Anvers</td>\n",
       "      <td>Torgersen</td>\n",
       "      <td>Adult, 1 Egg Stage</td>\n",
       "      <td>N63A1</td>\n",
       "      <td>Yes</td>\n",
       "      <td>11/18/09</td>\n",
       "      <td>38.6</td>\n",
       "      <td>17.0</td>\n",
       "      <td>188.0</td>\n",
       "      <td>2900.0</td>\n",
       "      <td>FEMALE</td>\n",
       "      <td>9.18021</td>\n",
       "      <td>-25.77264</td>\n",
       "      <td>NaN</td>\n",
       "    </tr>\n",
       "  </tbody>\n",
       "</table>\n",
       "</div>"
      ],
      "text/plain": [
       "    studyName  Sample Number                                    Species  \\\n",
       "200   PAL0910             49  Chinstrap penguin (Pygoscelis antarctica)   \n",
       "140   PAL0910            141        Adelie Penguin (Pygoscelis adeliae)   \n",
       "94    PAL0809             95        Adelie Penguin (Pygoscelis adeliae)   \n",
       "89    PAL0809             90        Adelie Penguin (Pygoscelis adeliae)   \n",
       "116   PAL0910            117        Adelie Penguin (Pygoscelis adeliae)   \n",
       "\n",
       "     Region     Island               Stage Individual ID Clutch Completion  \\\n",
       "200  Anvers      Dream  Adult, 1 Egg Stage         N88A1               Yes   \n",
       "140  Anvers      Dream  Adult, 1 Egg Stage         N80A1               Yes   \n",
       "94   Anvers      Dream  Adult, 1 Egg Stage         N48A1               Yes   \n",
       "89   Anvers      Dream  Adult, 1 Egg Stage         N44A2               Yes   \n",
       "116  Anvers  Torgersen  Adult, 1 Egg Stage         N63A1               Yes   \n",
       "\n",
       "     Date Egg  Culmen Length (mm)  Culmen Depth (mm)  Flipper Length (mm)  \\\n",
       "200  11/23/09                51.5               18.7                187.0   \n",
       "140  11/14/09                40.2               17.1                193.0   \n",
       "94   11/17/08                36.2               17.3                187.0   \n",
       "89    11/8/08                38.9               18.8                190.0   \n",
       "116  11/18/09                38.6               17.0                188.0   \n",
       "\n",
       "     Body Mass (g)     Sex  Delta 15 N (o/oo)  Delta 13 C (o/oo) Comments  \n",
       "200         3250.0    MALE            9.68950          -24.43062      NaN  \n",
       "140         3400.0  FEMALE            9.28810          -25.54976      NaN  \n",
       "94          3300.0  FEMALE            8.90723          -26.30037      NaN  \n",
       "89          3600.0  FEMALE            8.36936          -26.11199      NaN  \n",
       "116         2900.0  FEMALE            9.18021          -25.77264      NaN  "
      ]
     },
     "execution_count": 77,
     "metadata": {},
     "output_type": "execute_result"
    }
   ],
   "source": [
    "row = df.sample(n = 5)\n",
    "row"
   ]
  },
  {
   "cell_type": "code",
   "execution_count": null,
   "id": "3a07fe94",
   "metadata": {},
   "outputs": [],
   "source": []
  },
  {
   "cell_type": "code",
   "execution_count": 31,
   "id": "2a639445",
   "metadata": {},
   "outputs": [
    {
     "name": "stdout",
     "output_type": "stream",
     "text": [
      "Cool\n",
      "344 86\n"
     ]
    },
    {
     "data": {
      "text/html": [
       "<div>\n",
       "<style scoped>\n",
       "    .dataframe tbody tr th:only-of-type {\n",
       "        vertical-align: middle;\n",
       "    }\n",
       "\n",
       "    .dataframe tbody tr th {\n",
       "        vertical-align: top;\n",
       "    }\n",
       "\n",
       "    .dataframe thead th {\n",
       "        text-align: right;\n",
       "    }\n",
       "</style>\n",
       "<table border=\"1\" class=\"dataframe\">\n",
       "  <thead>\n",
       "    <tr style=\"text-align: right;\">\n",
       "      <th></th>\n",
       "      <th>studyName</th>\n",
       "      <th>Sample Number</th>\n",
       "      <th>Species</th>\n",
       "      <th>Region</th>\n",
       "      <th>Island</th>\n",
       "      <th>Stage</th>\n",
       "      <th>Individual ID</th>\n",
       "      <th>Clutch Completion</th>\n",
       "      <th>Date Egg</th>\n",
       "      <th>Culmen Length (mm)</th>\n",
       "      <th>Culmen Depth (mm)</th>\n",
       "      <th>Flipper Length (mm)</th>\n",
       "      <th>Body Mass (g)</th>\n",
       "      <th>Sex</th>\n",
       "      <th>Delta 15 N (o/oo)</th>\n",
       "      <th>Delta 13 C (o/oo)</th>\n",
       "      <th>Comments</th>\n",
       "    </tr>\n",
       "  </thead>\n",
       "  <tbody>\n",
       "    <tr>\n",
       "      <th>222</th>\n",
       "      <td>PAL0708</td>\n",
       "      <td>3</td>\n",
       "      <td>Gentoo penguin (Pygoscelis papua)</td>\n",
       "      <td>Anvers</td>\n",
       "      <td>Biscoe</td>\n",
       "      <td>Adult, 1 Egg Stage</td>\n",
       "      <td>N32A1</td>\n",
       "      <td>Yes</td>\n",
       "      <td>11/27/07</td>\n",
       "      <td>48.7</td>\n",
       "      <td>14.1</td>\n",
       "      <td>210.0</td>\n",
       "      <td>4450.0</td>\n",
       "      <td>FEMALE</td>\n",
       "      <td>8.14705</td>\n",
       "      <td>-25.46172</td>\n",
       "      <td>NaN</td>\n",
       "    </tr>\n",
       "    <tr>\n",
       "      <th>318</th>\n",
       "      <td>PAL0910</td>\n",
       "      <td>99</td>\n",
       "      <td>Gentoo penguin (Pygoscelis papua)</td>\n",
       "      <td>Anvers</td>\n",
       "      <td>Biscoe</td>\n",
       "      <td>Adult, 1 Egg Stage</td>\n",
       "      <td>N21A1</td>\n",
       "      <td>Yes</td>\n",
       "      <td>11/18/09</td>\n",
       "      <td>48.4</td>\n",
       "      <td>14.4</td>\n",
       "      <td>203.0</td>\n",
       "      <td>4625.0</td>\n",
       "      <td>FEMALE</td>\n",
       "      <td>8.16582</td>\n",
       "      <td>-26.13971</td>\n",
       "      <td>NaN</td>\n",
       "    </tr>\n",
       "    <tr>\n",
       "      <th>97</th>\n",
       "      <td>PAL0809</td>\n",
       "      <td>98</td>\n",
       "      <td>Adelie Penguin (Pygoscelis adeliae)</td>\n",
       "      <td>Anvers</td>\n",
       "      <td>Dream</td>\n",
       "      <td>Adult, 1 Egg Stage</td>\n",
       "      <td>N49A2</td>\n",
       "      <td>Yes</td>\n",
       "      <td>11/8/08</td>\n",
       "      <td>40.3</td>\n",
       "      <td>18.5</td>\n",
       "      <td>196.0</td>\n",
       "      <td>4350.0</td>\n",
       "      <td>MALE</td>\n",
       "      <td>8.39459</td>\n",
       "      <td>-26.01152</td>\n",
       "      <td>NaN</td>\n",
       "    </tr>\n",
       "    <tr>\n",
       "      <th>306</th>\n",
       "      <td>PAL0910</td>\n",
       "      <td>87</td>\n",
       "      <td>Gentoo penguin (Pygoscelis papua)</td>\n",
       "      <td>Anvers</td>\n",
       "      <td>Biscoe</td>\n",
       "      <td>Adult, 1 Egg Stage</td>\n",
       "      <td>N13A1</td>\n",
       "      <td>Yes</td>\n",
       "      <td>11/20/09</td>\n",
       "      <td>43.4</td>\n",
       "      <td>14.4</td>\n",
       "      <td>218.0</td>\n",
       "      <td>4600.0</td>\n",
       "      <td>FEMALE</td>\n",
       "      <td>8.23468</td>\n",
       "      <td>-26.18599</td>\n",
       "      <td>NaN</td>\n",
       "    </tr>\n",
       "    <tr>\n",
       "      <th>289</th>\n",
       "      <td>PAL0809</td>\n",
       "      <td>70</td>\n",
       "      <td>Gentoo penguin (Pygoscelis papua)</td>\n",
       "      <td>Anvers</td>\n",
       "      <td>Biscoe</td>\n",
       "      <td>Adult, 1 Egg Stage</td>\n",
       "      <td>N53A2</td>\n",
       "      <td>Yes</td>\n",
       "      <td>11/13/08</td>\n",
       "      <td>50.7</td>\n",
       "      <td>15.0</td>\n",
       "      <td>223.0</td>\n",
       "      <td>5550.0</td>\n",
       "      <td>MALE</td>\n",
       "      <td>8.63551</td>\n",
       "      <td>-26.74249</td>\n",
       "      <td>NaN</td>\n",
       "    </tr>\n",
       "    <tr>\n",
       "      <th>...</th>\n",
       "      <td>...</td>\n",
       "      <td>...</td>\n",
       "      <td>...</td>\n",
       "      <td>...</td>\n",
       "      <td>...</td>\n",
       "      <td>...</td>\n",
       "      <td>...</td>\n",
       "      <td>...</td>\n",
       "      <td>...</td>\n",
       "      <td>...</td>\n",
       "      <td>...</td>\n",
       "      <td>...</td>\n",
       "      <td>...</td>\n",
       "      <td>...</td>\n",
       "      <td>...</td>\n",
       "      <td>...</td>\n",
       "      <td>...</td>\n",
       "    </tr>\n",
       "    <tr>\n",
       "      <th>28</th>\n",
       "      <td>PAL0708</td>\n",
       "      <td>29</td>\n",
       "      <td>Adelie Penguin (Pygoscelis adeliae)</td>\n",
       "      <td>Anvers</td>\n",
       "      <td>Biscoe</td>\n",
       "      <td>Adult, 1 Egg Stage</td>\n",
       "      <td>N18A1</td>\n",
       "      <td>No</td>\n",
       "      <td>11/10/07</td>\n",
       "      <td>37.9</td>\n",
       "      <td>18.6</td>\n",
       "      <td>172.0</td>\n",
       "      <td>3150.0</td>\n",
       "      <td>FEMALE</td>\n",
       "      <td>8.38404</td>\n",
       "      <td>-25.19837</td>\n",
       "      <td>Nest never observed with full clutch.</td>\n",
       "    </tr>\n",
       "    <tr>\n",
       "      <th>273</th>\n",
       "      <td>PAL0809</td>\n",
       "      <td>54</td>\n",
       "      <td>Gentoo penguin (Pygoscelis papua)</td>\n",
       "      <td>Anvers</td>\n",
       "      <td>Biscoe</td>\n",
       "      <td>Adult, 1 Egg Stage</td>\n",
       "      <td>N14A2</td>\n",
       "      <td>Yes</td>\n",
       "      <td>11/4/08</td>\n",
       "      <td>50.1</td>\n",
       "      <td>15.0</td>\n",
       "      <td>225.0</td>\n",
       "      <td>5000.0</td>\n",
       "      <td>MALE</td>\n",
       "      <td>8.50153</td>\n",
       "      <td>-26.61414</td>\n",
       "      <td>NaN</td>\n",
       "    </tr>\n",
       "    <tr>\n",
       "      <th>194</th>\n",
       "      <td>PAL0809</td>\n",
       "      <td>43</td>\n",
       "      <td>Chinstrap penguin (Pygoscelis antarctica)</td>\n",
       "      <td>Anvers</td>\n",
       "      <td>Dream</td>\n",
       "      <td>Adult, 1 Egg Stage</td>\n",
       "      <td>N75A1</td>\n",
       "      <td>Yes</td>\n",
       "      <td>11/14/08</td>\n",
       "      <td>50.9</td>\n",
       "      <td>19.1</td>\n",
       "      <td>196.0</td>\n",
       "      <td>3550.0</td>\n",
       "      <td>MALE</td>\n",
       "      <td>10.02372</td>\n",
       "      <td>-24.86594</td>\n",
       "      <td>NaN</td>\n",
       "    </tr>\n",
       "    <tr>\n",
       "      <th>63</th>\n",
       "      <td>PAL0809</td>\n",
       "      <td>64</td>\n",
       "      <td>Adelie Penguin (Pygoscelis adeliae)</td>\n",
       "      <td>Anvers</td>\n",
       "      <td>Biscoe</td>\n",
       "      <td>Adult, 1 Egg Stage</td>\n",
       "      <td>N28A2</td>\n",
       "      <td>Yes</td>\n",
       "      <td>11/13/08</td>\n",
       "      <td>41.1</td>\n",
       "      <td>18.2</td>\n",
       "      <td>192.0</td>\n",
       "      <td>4050.0</td>\n",
       "      <td>MALE</td>\n",
       "      <td>8.62264</td>\n",
       "      <td>-26.60023</td>\n",
       "      <td>NaN</td>\n",
       "    </tr>\n",
       "    <tr>\n",
       "      <th>325</th>\n",
       "      <td>PAL0910</td>\n",
       "      <td>106</td>\n",
       "      <td>Gentoo penguin (Pygoscelis papua)</td>\n",
       "      <td>Anvers</td>\n",
       "      <td>Biscoe</td>\n",
       "      <td>Adult, 1 Egg Stage</td>\n",
       "      <td>N24A2</td>\n",
       "      <td>Yes</td>\n",
       "      <td>12/1/09</td>\n",
       "      <td>46.8</td>\n",
       "      <td>16.1</td>\n",
       "      <td>215.0</td>\n",
       "      <td>5500.0</td>\n",
       "      <td>MALE</td>\n",
       "      <td>8.32359</td>\n",
       "      <td>-26.05756</td>\n",
       "      <td>NaN</td>\n",
       "    </tr>\n",
       "  </tbody>\n",
       "</table>\n",
       "<p>86 rows × 17 columns</p>\n",
       "</div>"
      ],
      "text/plain": [
       "    studyName  Sample Number                                    Species  \\\n",
       "222   PAL0708              3          Gentoo penguin (Pygoscelis papua)   \n",
       "318   PAL0910             99          Gentoo penguin (Pygoscelis papua)   \n",
       "97    PAL0809             98        Adelie Penguin (Pygoscelis adeliae)   \n",
       "306   PAL0910             87          Gentoo penguin (Pygoscelis papua)   \n",
       "289   PAL0809             70          Gentoo penguin (Pygoscelis papua)   \n",
       "..        ...            ...                                        ...   \n",
       "28    PAL0708             29        Adelie Penguin (Pygoscelis adeliae)   \n",
       "273   PAL0809             54          Gentoo penguin (Pygoscelis papua)   \n",
       "194   PAL0809             43  Chinstrap penguin (Pygoscelis antarctica)   \n",
       "63    PAL0809             64        Adelie Penguin (Pygoscelis adeliae)   \n",
       "325   PAL0910            106          Gentoo penguin (Pygoscelis papua)   \n",
       "\n",
       "     Region  Island               Stage Individual ID Clutch Completion  \\\n",
       "222  Anvers  Biscoe  Adult, 1 Egg Stage         N32A1               Yes   \n",
       "318  Anvers  Biscoe  Adult, 1 Egg Stage         N21A1               Yes   \n",
       "97   Anvers   Dream  Adult, 1 Egg Stage         N49A2               Yes   \n",
       "306  Anvers  Biscoe  Adult, 1 Egg Stage         N13A1               Yes   \n",
       "289  Anvers  Biscoe  Adult, 1 Egg Stage         N53A2               Yes   \n",
       "..      ...     ...                 ...           ...               ...   \n",
       "28   Anvers  Biscoe  Adult, 1 Egg Stage         N18A1                No   \n",
       "273  Anvers  Biscoe  Adult, 1 Egg Stage         N14A2               Yes   \n",
       "194  Anvers   Dream  Adult, 1 Egg Stage         N75A1               Yes   \n",
       "63   Anvers  Biscoe  Adult, 1 Egg Stage         N28A2               Yes   \n",
       "325  Anvers  Biscoe  Adult, 1 Egg Stage         N24A2               Yes   \n",
       "\n",
       "     Date Egg  Culmen Length (mm)  Culmen Depth (mm)  Flipper Length (mm)  \\\n",
       "222  11/27/07                48.7               14.1                210.0   \n",
       "318  11/18/09                48.4               14.4                203.0   \n",
       "97    11/8/08                40.3               18.5                196.0   \n",
       "306  11/20/09                43.4               14.4                218.0   \n",
       "289  11/13/08                50.7               15.0                223.0   \n",
       "..        ...                 ...                ...                  ...   \n",
       "28   11/10/07                37.9               18.6                172.0   \n",
       "273   11/4/08                50.1               15.0                225.0   \n",
       "194  11/14/08                50.9               19.1                196.0   \n",
       "63   11/13/08                41.1               18.2                192.0   \n",
       "325   12/1/09                46.8               16.1                215.0   \n",
       "\n",
       "     Body Mass (g)     Sex  Delta 15 N (o/oo)  Delta 13 C (o/oo)  \\\n",
       "222         4450.0  FEMALE            8.14705          -25.46172   \n",
       "318         4625.0  FEMALE            8.16582          -26.13971   \n",
       "97          4350.0    MALE            8.39459          -26.01152   \n",
       "306         4600.0  FEMALE            8.23468          -26.18599   \n",
       "289         5550.0    MALE            8.63551          -26.74249   \n",
       "..             ...     ...                ...                ...   \n",
       "28          3150.0  FEMALE            8.38404          -25.19837   \n",
       "273         5000.0    MALE            8.50153          -26.61414   \n",
       "194         3550.0    MALE           10.02372          -24.86594   \n",
       "63          4050.0    MALE            8.62264          -26.60023   \n",
       "325         5500.0    MALE            8.32359          -26.05756   \n",
       "\n",
       "                                  Comments  \n",
       "222                                    NaN  \n",
       "318                                    NaN  \n",
       "97                                     NaN  \n",
       "306                                    NaN  \n",
       "289                                    NaN  \n",
       "..                                     ...  \n",
       "28   Nest never observed with full clutch.  \n",
       "273                                    NaN  \n",
       "194                                    NaN  \n",
       "63                                     NaN  \n",
       "325                                    NaN  \n",
       "\n",
       "[86 rows x 17 columns]"
      ]
     },
     "execution_count": 31,
     "metadata": {},
     "output_type": "execute_result"
    }
   ],
   "source": [
    "rows = df.sample(frac =.25) \n",
    "  \n",
    "# checking if sample is 0.25 times data or not \n",
    "  \n",
    "if (0.25*(len(df))== len(rows)): \n",
    "    print( \"Cool\") \n",
    "    print(len(df), len(rows)) \n",
    "  \n",
    "# display \n",
    "rows "
   ]
  },
  {
   "cell_type": "markdown",
   "id": "48e42a07",
   "metadata": {},
   "source": [
    "<b> question: random select ten rows of the penguins_iter.csv data"
   ]
  },
  {
   "cell_type": "code",
   "execution_count": 13,
   "id": "87100957",
   "metadata": {},
   "outputs": [
    {
     "ename": "NameError",
     "evalue": "name 'df' is not defined",
     "output_type": "error",
     "traceback": [
      "\u001b[0;31m---------------------------------------------------------------------------\u001b[0m",
      "\u001b[0;31mNameError\u001b[0m                                 Traceback (most recent call last)",
      "\u001b[0;32m/var/folders/t5/961m25k976xdp4w3m8b1r5600000gn/T/ipykernel_51803/4003786553.py\u001b[0m in \u001b[0;36m<module>\u001b[0;34m\u001b[0m\n\u001b[0;32m----> 1\u001b[0;31m \u001b[0mrandom_sample\u001b[0m \u001b[0;34m=\u001b[0m \u001b[0mdf\u001b[0m\u001b[0;34m.\u001b[0m\u001b[0msample\u001b[0m\u001b[0;34m(\u001b[0m\u001b[0mn\u001b[0m\u001b[0;34m=\u001b[0m\u001b[0;36m10\u001b[0m\u001b[0;34m)\u001b[0m\u001b[0;34m\u001b[0m\u001b[0;34m\u001b[0m\u001b[0m\n\u001b[0m\u001b[1;32m      2\u001b[0m \u001b[0;34m\u001b[0m\u001b[0m\n\u001b[1;32m      3\u001b[0m \u001b[0;31m# Print the randomly selected sample\u001b[0m\u001b[0;34m\u001b[0m\u001b[0;34m\u001b[0m\u001b[0m\n\u001b[1;32m      4\u001b[0m \u001b[0mprint\u001b[0m\u001b[0;34m(\u001b[0m\u001b[0;34m\"Randomly Selected Sample:\"\u001b[0m\u001b[0;34m)\u001b[0m\u001b[0;34m\u001b[0m\u001b[0;34m\u001b[0m\u001b[0m\n\u001b[1;32m      5\u001b[0m \u001b[0mprint\u001b[0m\u001b[0;34m(\u001b[0m\u001b[0mrandom_sample\u001b[0m\u001b[0;34m)\u001b[0m\u001b[0;34m\u001b[0m\u001b[0;34m\u001b[0m\u001b[0m\n",
      "\u001b[0;31mNameError\u001b[0m: name 'df' is not defined"
     ]
    }
   ],
   "source": [
    "# NOT GIVEN FILE IN HW FILE WILL RESULT IN EERRORS DUE TO THAT\n",
    "random_sample = df.sample(n=10)\n",
    "\n",
    "# Print the randomly selected sample\n",
    "print(\"Randomly Selected Sample:\")\n",
    "print(random_sample)"
   ]
  },
  {
   "cell_type": "code",
   "execution_count": 32,
   "id": "55e7a7b6",
   "metadata": {},
   "outputs": [
    {
     "data": {
      "text/plain": [
       "Index(['studyName', 'Sample Number', 'Species', 'Region', 'Island', 'Stage',\n",
       "       'Individual ID', 'Clutch Completion', 'Date Egg', 'Culmen Length (mm)',\n",
       "       'Culmen Depth (mm)', 'Flipper Length (mm)', 'Body Mass (g)', 'Sex',\n",
       "       'Delta 15 N (o/oo)', 'Delta 13 C (o/oo)', 'Comments'],\n",
       "      dtype='object')"
      ]
     },
     "execution_count": 32,
     "metadata": {},
     "output_type": "execute_result"
    }
   ],
   "source": [
    "df.columns"
   ]
  },
  {
   "cell_type": "code",
   "execution_count": 34,
   "id": "9e457803",
   "metadata": {},
   "outputs": [
    {
     "data": {
      "text/plain": [
       "43.92192982456142"
      ]
     },
     "execution_count": 34,
     "metadata": {},
     "output_type": "execute_result"
    }
   ],
   "source": [
    "df[\"Culmen Length (mm)\"].mean()"
   ]
  },
  {
   "cell_type": "code",
   "execution_count": 33,
   "id": "83bb26a5",
   "metadata": {},
   "outputs": [
    {
     "data": {
      "text/plain": [
       "45.220000000000006"
      ]
     },
     "execution_count": 33,
     "metadata": {},
     "output_type": "execute_result"
    }
   ],
   "source": [
    "df[\"Culmen Length (mm)\"].sample(n=10).mean()"
   ]
  },
  {
   "cell_type": "code",
   "execution_count": 36,
   "id": "51876294",
   "metadata": {},
   "outputs": [
    {
     "data": {
      "text/plain": [
       "43.280808080808065"
      ]
     },
     "execution_count": 36,
     "metadata": {},
     "output_type": "execute_result"
    }
   ],
   "source": [
    "df[\"Culmen Length (mm)\"].sample(n=100).mean()"
   ]
  },
  {
   "cell_type": "code",
   "execution_count": null,
   "id": "09867e65",
   "metadata": {},
   "outputs": [],
   "source": []
  },
  {
   "cell_type": "code",
   "execution_count": null,
   "id": "1534bb25",
   "metadata": {},
   "outputs": [],
   "source": []
  },
  {
   "cell_type": "markdown",
   "id": "76018c86",
   "metadata": {},
   "source": [
    "### Bootstrapping "
   ]
  },
  {
   "cell_type": "markdown",
   "id": "cb681cd3",
   "metadata": {},
   "source": [
    "average height of the population   \n",
    "1. select 1million to get the average height, ave\n",
    "2. random select 1 million again, ave\n",
    "3. repeates"
   ]
  },
  {
   "cell_type": "code",
   "execution_count": 14,
   "id": "877ee908",
   "metadata": {},
   "outputs": [
    {
     "name": "stdout",
     "output_type": "stream",
     "text": [
      "Average height of the population: 169.99437395848526\n",
      "Average of the bootstrapped sample means: 169.99439489785865\n"
     ]
    }
   ],
   "source": [
    "import numpy as np\n",
    "\n",
    "# generate a random population of heights (normally distributed)\n",
    "population_heights = np.random.normal(loc=170, scale=10, size=1000000)  # Mean: 170, Standard Deviation: 10\n",
    "\n",
    "# calculate the average height of the population\n",
    "average_height = np.mean(population_heights)\n",
    "print(\"Average height of the population:\", average_height)\n",
    "\n",
    "# perform bootstrapping by repeatedly sampling with replacement and calculating the average\n",
    "num_samples = 1000  # Number of bootstrap samples\n",
    "bootstrap_means = []\n",
    "for _ in range(num_samples):\n",
    "    bootstrap_sample = np.random.choice(population_heights, size=1000000, replace=True)\n",
    "    bootstrap_mean = np.mean(bootstrap_sample)\n",
    "    bootstrap_means.append(bootstrap_mean)\n",
    "\n",
    "# print the average of the bootstrapped sample means\n",
    "print(\"Average of the bootstrapped sample means:\", np.mean(bootstrap_means))"
   ]
  },
  {
   "cell_type": "code",
   "execution_count": null,
   "id": "4db88b93",
   "metadata": {},
   "outputs": [],
   "source": []
  },
  {
   "cell_type": "code",
   "execution_count": 1,
   "id": "f82aa4ae",
   "metadata": {},
   "outputs": [],
   "source": [
    "from scipy.stats import norm"
   ]
  },
  {
   "cell_type": "markdown",
   "id": "1f655e9b",
   "metadata": {},
   "source": [
    "# Hypothesis testing"
   ]
  },
  {
   "cell_type": "markdown",
   "id": "2e757022",
   "metadata": {},
   "source": [
    "Hypothesis: A hypothesis is a statement about an unknown population parameter   \n",
    "A hypothesis test is a test of 2 competing hypotheses  \n",
    "z_score = (sample_mean - hypothesis_mean)/data_std     \n",
    "\n",
    "p-values: probability of obtaining a result assuming the null hyposthesis is true   \n",
    "left-tailed test  norm.cdf()   \n",
    "right-tailed test 1-norm.cdf()  eg, 1-norm.cdf(z_score, loc=0, scale=1)"
   ]
  },
  {
   "cell_type": "markdown",
   "id": "6bf31357",
   "metadata": {},
   "source": [
    "<b> Question: generate a list which length is 100, sample 10 from the list and get the z_score, then get the left_tailed"
   ]
  },
  {
   "cell_type": "code",
   "execution_count": 16,
   "id": "022b563d",
   "metadata": {},
   "outputs": [
    {
     "name": "stdout",
     "output_type": "stream",
     "text": [
      "Original Data: [25, 96, 56, 76, 44, 95, 61, 35, 60, 43, 82, 90, 99, 89, 83, 19, 31, 76, 7, 35, 66, 25, 37, 36, 17, 40, 30, 57, 25, 11, 67, 19, 35, 56, 37, 94, 65, 11, 2, 16, 43, 52, 8, 7, 59, 83, 83, 19, 83, 98, 17, 90, 8, 22, 90, 24, 8, 31, 70, 69, 29, 19, 14, 8, 21, 84, 55, 4, 59, 55, 28, 4, 53, 77, 98, 78, 7, 7, 4, 36, 44, 80, 88, 26, 35, 4, 81, 32, 35, 34, 30, 34, 74, 52, 29, 70, 24, 83, 100, 5]\n",
      "Sample: [8, 25, 66, 19, 4, 19, 7, 55, 100, 83]\n",
      "Z-scores: [-0.92913457 -0.4129487   0.83197017 -0.59513195 -1.05059007 -0.59513195\n",
      " -0.95949844  0.49796755  1.86434191  1.34815604]\n",
      "Left-tailed values: [0.17640968 0.3398221  0.79728711 0.27587764 0.14672345 0.27587764\n",
      " 0.16865385 0.69074654 0.96886315 0.9111959 ]\n"
     ]
    }
   ],
   "source": [
    "import random\n",
    "from scipy import stats\n",
    "\n",
    "# generate a list of 100 numbers\n",
    "data = [random.randint(1, 100) for _ in range(100)]\n",
    "\n",
    "# sample 10 numbers from the list\n",
    "sample = random.sample(data, 10)\n",
    "\n",
    "# calculate the z-scores of the sample\n",
    "z_scores = stats.zscore(sample)\n",
    "\n",
    "# obtain the left-tailed values\n",
    "left_tailed = stats.norm.cdf(z_scores)\n",
    "\n",
    "# print the results\n",
    "print(\"Original Data:\", data)\n",
    "print(\"Sample:\", sample)\n",
    "print(\"Z-scores:\", z_scores)\n",
    "print(\"Left-tailed values:\", left_tailed)"
   ]
  },
  {
   "cell_type": "code",
   "execution_count": null,
   "id": "6d608049",
   "metadata": {},
   "outputs": [],
   "source": []
  }
 ],
 "metadata": {
  "kernelspec": {
   "display_name": "Python 3 (ipykernel)",
   "language": "python",
   "name": "python3"
  },
  "language_info": {
   "codemirror_mode": {
    "name": "ipython",
    "version": 3
   },
   "file_extension": ".py",
   "mimetype": "text/x-python",
   "name": "python",
   "nbconvert_exporter": "python",
   "pygments_lexer": "ipython3",
   "version": "3.9.7"
  }
 },
 "nbformat": 4,
 "nbformat_minor": 5
}
